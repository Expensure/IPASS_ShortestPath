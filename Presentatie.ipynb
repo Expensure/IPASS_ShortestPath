{
 "cells": [
  {
   "cell_type": "code",
   "execution_count": null,
   "metadata": {},
   "outputs": [],
   "source": [
    "from KMeans import KMeans\n",
    "from Algorithm import algorithm\n",
    "from sklearn.datasets import make_blobs\n",
    "from sklearn.metrics.pairwise import pairwise_distances"
   ]
  },
  {
   "cell_type": "code",
   "execution_count": null,
   "metadata": {},
   "outputs": [],
   "source": [
    "# generate random points\n",
    "X, _ = make_blobs(n_samples=30, centers=5)\n",
    "\n",
    "# compute distance matrix\n",
    "dist = pairwise_distances(X, metric='euclidean')\n",
    "# k-means\n",
    "km = KMeans(distance_matrix=dist, n_clusters=5)\n",
    "km.run(max_iterations=3, tolerance=0.001)\n",
    "print(km.clusters)\n"
   ]
  },
  {
   "cell_type": "code",
   "execution_count": null,
   "metadata": {},
   "outputs": [],
   "source": [
    "keys = km.clusters.keys()\n",
    "values = km.clusters.values()"
   ]
  },
  {
   "cell_type": "code",
   "execution_count": null,
   "metadata": {},
   "outputs": [],
   "source": [
    "def plot_coords(coords, route):\n",
    "    import matplotlib.pyplot as plt\n",
    "    '''\n",
    "    Plots all points in a scatterplot\n",
    "    :returns nothing:\n",
    "    '''\n",
    "    x, y = [], []\n",
    "    for i in get_data():\n",
    "        x.append(i[0]), y.append(i[1])\n",
    "    xl, yl = [], []\n",
    "    for i in route:\n",
    "        xl.append(coords[i][0])\n",
    "        yl.append(coords[i][1])\n",
    "    plt.plot(xl, yl)\n",
    "    plt.xlabel('X')\n",
    "    plt.ylabel('Y')\n",
    "    return None"
   ]
  },
  {
   "cell_type": "code",
   "execution_count": null,
   "metadata": {},
   "outputs": [],
   "source": [
    "def get_coords(lst,data):\n",
    "    '''\n",
    "    Gets coordinates of list of indices\n",
    "    :param list: List of indices belonging to sublist\n",
    "    :param data: Actual coordinates (sublist)\n",
    "    :return: list of coords belonging to indices\n",
    "    '''\n",
    "    total = []\n",
    "    for i in lst:\n",
    "        total.append(data[i])\n",
    "    return total"
   ]
  },
  {
   "cell_type": "code",
   "execution_count": null,
   "metadata": {},
   "outputs": [],
   "source": [
    "for i in get_coords(values,X):\n",
    "    path,time = (algorithm(i))\n",
    "    plot_coords(i,path)"
   ]
  },
  {
   "cell_type": "code",
   "execution_count": null,
   "metadata": {},
   "outputs": [],
   "source": []
  }
 ],
 "metadata": {
  "kernelspec": {
   "display_name": "Python 3",
   "language": "python",
   "name": "python3"
  },
  "language_info": {
   "codemirror_mode": {
    "name": "ipython",
    "version": 3
   },
   "file_extension": ".py",
   "mimetype": "text/x-python",
   "name": "python",
   "nbconvert_exporter": "python",
   "pygments_lexer": "ipython3",
   "version": "3.8.6"
  }
 },
 "nbformat": 4,
 "nbformat_minor": 4
}
